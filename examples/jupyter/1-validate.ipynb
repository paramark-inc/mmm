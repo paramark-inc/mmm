{
 "cells": [
  {
   "cell_type": "markdown",
   "id": "99c6a19c-57f4-496e-9749-44bc23e584dc",
   "metadata": {},
   "source": [
    "### Run this notebook first to run sanity checks on your data.  If this script encounters issues, consider transforming the data to resolve them prior to running the regression analysis. "
   ]
  },
  {
   "cell_type": "code",
   "execution_count": 19,
   "id": "f28a73ad-d447-4e32-93f2-b3d76b8aef2d",
   "metadata": {},
   "outputs": [],
   "source": [
    "import os\n",
    "import sys"
   ]
  },
  {
   "cell_type": "code",
   "execution_count": 20,
   "id": "f90001c0-85a3-4d9b-9a90-cbc5ffbae7d9",
   "metadata": {},
   "outputs": [],
   "source": [
    "sys.path.insert(0, os.path.join(\"..\", \"..\"))\n",
    "sys.path.append(os.path.join(\"..\", \"..\", \"impl\", \"lightweight_mmm\"))"
   ]
  },
  {
   "cell_type": "code",
   "execution_count": 21,
   "id": "15d59576-9fa1-436f-9889-9477fce6f3ca",
   "metadata": {},
   "outputs": [],
   "source": [
    "import numpy as np\n",
    "import pandas as pd"
   ]
  },
  {
   "cell_type": "code",
   "execution_count": 22,
   "id": "093fbbf1-5644-4b4b-827c-5bcc5aaccc3e",
   "metadata": {},
   "outputs": [],
   "source": [
    "from base_driver.config import load_config\n",
    "from mmm.data.data_to_fit import DataToFit\n",
    "from mmm.parser.csv import parse_csv_generic\n",
    "from mmm.transform.transform import transform_input_generic"
   ]
  },
  {
   "cell_type": "code",
   "execution_count": 23,
   "id": "bcf795cb-76b7-4749-b838-0f0f23c9cfda",
   "metadata": {},
   "outputs": [],
   "source": [
    "from lightweight_mmm import preprocessing"
   ]
  },
  {
   "cell_type": "code",
   "execution_count": 24,
   "id": "65189540-9a1c-46af-8691-e35c7e616b00",
   "metadata": {},
   "outputs": [],
   "source": [
    "import plotly.express as px"
   ]
  },
  {
   "cell_type": "code",
   "execution_count": 25,
   "id": "94146ad7-57fc-4ba0-9bc9-d03f3e232edb",
   "metadata": {},
   "outputs": [],
   "source": [
    "pd.options.display.float_format = '{:,.3f}'.format"
   ]
  },
  {
   "cell_type": "markdown",
   "id": "9b9c3e17-8318-4cdd-a0c0-9ff97940dbc1",
   "metadata": {},
   "source": [
    "#### Update `config_filename` and `input_filename` to refer to your config and data files."
   ]
  },
  {
   "cell_type": "code",
   "execution_count": 26,
   "id": "b0602a92-733b-4a0e-ba8f-a5d9e2adac9e",
   "metadata": {},
   "outputs": [],
   "source": [
    "config_filename = \"../sample_config.yaml\"\n",
    "input_filename = \"../sample_data.csv\""
   ]
  },
  {
   "cell_type": "code",
   "execution_count": 27,
   "id": "f24a66ca-eff2-48a1-aaf7-3b2f14c93e7d",
   "metadata": {},
   "outputs": [],
   "source": [
    "_, config = load_config(config_filename)\n",
    "data_dict = parse_csv_generic(input_filename, config)\n",
    "input_data = transform_input_generic(data_dict, config)\n",
    "data_to_fit = DataToFit.from_input_data(input_data, config)"
   ]
  },
  {
   "cell_type": "code",
   "execution_count": 28,
   "id": "c23619a2-ff26-44fa-bf5d-cc4f8b5bae70",
   "metadata": {},
   "outputs": [],
   "source": [
    "correlations, variances, spend_fractions, variance_inflation_factors = preprocessing.check_data_quality(\n",
    "    media_data=np.vstack((data_to_fit.media_data_train_scaled, data_to_fit.media_data_test_scaled)),\n",
    "    target_data=np.hstack((data_to_fit.target_train_scaled, data_to_fit.target_test_scaled)),\n",
    "    cost_data=data_to_fit.media_priors_scaled,\n",
    "    extra_features_data=np.vstack((data_to_fit.extra_features_train_scaled, data_to_fit.extra_features_test_scaled))\n",
    ")"
   ]
  },
  {
   "cell_type": "code",
   "execution_count": 29,
   "id": "70b4a00b-8021-4ee4-883f-6fc090cfdcf4",
   "metadata": {},
   "outputs": [],
   "source": [
    "def highlight_variances(x: float, \n",
    "                        low_variance_threshold: float=1.0e-3, \n",
    "                        high_variance_threshold: float=3.0) -> str:\n",
    "\n",
    "    if x < low_variance_threshold or x > high_variance_threshold:\n",
    "      weight = 'bold'\n",
    "      color = 'red'\n",
    "    else:\n",
    "      weight = 'normal'\n",
    "      color = 'black'\n",
    "    style = f'font-weight: {weight}; color: {color}'\n",
    "    return style\n",
    "\n",
    "def highlight_low_spend_fractions(x: float,\n",
    "                                  low_spend_threshold: float=0.01) -> str:\n",
    "    if x < low_spend_threshold:\n",
    "      weight = 'bold'\n",
    "      color = 'red'\n",
    "    else:\n",
    "      weight = 'normal'\n",
    "      color = 'black'\n",
    "    style = f'font-weight: {weight}; color: {color}'\n",
    "    return style\n",
    "\n",
    "def highlight_high_vif_values(x: float,\n",
    "                              high_vif_threshold: float=7.0) -> str:\n",
    "    if x > high_vif_threshold:\n",
    "      weight = 'bold'\n",
    "      color = 'red'\n",
    "    else:\n",
    "      weight = 'normal'\n",
    "      color = 'black'\n",
    "    style = f'font-weight: {weight}; color: {color}'\n",
    "    return style"
   ]
  },
  {
   "cell_type": "markdown",
   "id": "0142e572-aa4e-44fa-bbbb-7671f90d834a",
   "metadata": {},
   "source": [
    "#### Variances below `low_variance_threshold` or above `high_variance_threshold` are highlighted in red.\n",
    "#### If this happens, consider possible transformations to your data to reduce variance (such as combining channels or taking the log).\n",
    "#### The \"`feature_x`\" rows refer to the media channels."
   ]
  },
  {
   "cell_type": "code",
   "execution_count": 30,
   "id": "adb97766-d935-4823-a920-a093718c26ae",
   "metadata": {},
   "outputs": [
    {
     "data": {
      "text/html": [
       "<style type=\"text/css\">\n",
       "#T_3056d_row0_col0, #T_3056d_row1_col0, #T_3056d_row2_col0, #T_3056d_row3_col0 {\n",
       "  font-weight: normal;\n",
       "  color: black;\n",
       "}\n",
       "</style>\n",
       "<table id=\"T_3056d\">\n",
       "  <thead>\n",
       "    <tr>\n",
       "      <th class=\"blank level0\" >&nbsp;</th>\n",
       "      <th id=\"T_3056d_level0_col0\" class=\"col_heading level0 col0\" >geo_0</th>\n",
       "    </tr>\n",
       "  </thead>\n",
       "  <tbody>\n",
       "    <tr>\n",
       "      <th id=\"T_3056d_level0_row0\" class=\"row_heading level0 row0\" >feature_0</th>\n",
       "      <td id=\"T_3056d_row0_col0\" class=\"data row0 col0\" >0.005700</td>\n",
       "    </tr>\n",
       "    <tr>\n",
       "      <th id=\"T_3056d_level0_row1\" class=\"row_heading level0 row1\" >feature_1</th>\n",
       "      <td id=\"T_3056d_row1_col0\" class=\"data row1 col0\" >0.004908</td>\n",
       "    </tr>\n",
       "    <tr>\n",
       "      <th id=\"T_3056d_level0_row2\" class=\"row_heading level0 row2\" >feature_2</th>\n",
       "      <td id=\"T_3056d_row2_col0\" class=\"data row2 col0\" >0.005007</td>\n",
       "    </tr>\n",
       "    <tr>\n",
       "      <th id=\"T_3056d_level0_row3\" class=\"row_heading level0 row3\" >extra_feature_0</th>\n",
       "      <td id=\"T_3056d_row3_col0\" class=\"data row3 col0\" >0.044811</td>\n",
       "    </tr>\n",
       "  </tbody>\n",
       "</table>\n"
      ],
      "text/plain": [
       "<pandas.io.formats.style.Styler at 0x29c3fea00>"
      ]
     },
     "execution_count": 30,
     "metadata": {},
     "output_type": "execute_result"
    }
   ],
   "source": [
    "variances.style.applymap(highlight_variances)"
   ]
  },
  {
   "cell_type": "markdown",
   "id": "28d76f29-cee8-467b-837f-1f1e77b491f0",
   "metadata": {},
   "source": [
    "#### Spends must be positive."
   ]
  },
  {
   "cell_type": "code",
   "execution_count": 31,
   "id": "10ae3848-18a5-498f-a7d1-a24edf8db553",
   "metadata": {},
   "outputs": [
    {
     "data": {
      "text/html": [
       "<style type=\"text/css\">\n",
       "#T_3743d_row0_col0, #T_3743d_row1_col0, #T_3743d_row2_col0 {\n",
       "  font-weight: normal;\n",
       "  color: black;\n",
       "}\n",
       "</style>\n",
       "<table id=\"T_3743d\">\n",
       "  <thead>\n",
       "    <tr>\n",
       "      <th class=\"blank level0\" >&nbsp;</th>\n",
       "      <th id=\"T_3743d_level0_col0\" class=\"col_heading level0 col0\" >fraction of spend</th>\n",
       "    </tr>\n",
       "  </thead>\n",
       "  <tbody>\n",
       "    <tr>\n",
       "      <th id=\"T_3743d_level0_row0\" class=\"row_heading level0 row0\" >feature_0</th>\n",
       "      <td id=\"T_3743d_row0_col0\" class=\"data row0 col0\" >0.166800</td>\n",
       "    </tr>\n",
       "    <tr>\n",
       "      <th id=\"T_3743d_level0_row1\" class=\"row_heading level0 row1\" >feature_1</th>\n",
       "      <td id=\"T_3743d_row1_col0\" class=\"data row1 col0\" >0.333000</td>\n",
       "    </tr>\n",
       "    <tr>\n",
       "      <th id=\"T_3743d_level0_row2\" class=\"row_heading level0 row2\" >feature_2</th>\n",
       "      <td id=\"T_3743d_row2_col0\" class=\"data row2 col0\" >0.500200</td>\n",
       "    </tr>\n",
       "  </tbody>\n",
       "</table>\n"
      ],
      "text/plain": [
       "<pandas.io.formats.style.Styler at 0x29c3fe400>"
      ]
     },
     "execution_count": 31,
     "metadata": {},
     "output_type": "execute_result"
    }
   ],
   "source": [
    "spend_fractions.style.applymap(highlight_low_spend_fractions)"
   ]
  },
  {
   "cell_type": "markdown",
   "id": "21648395-3ae7-411f-8ae2-1906bab56a12",
   "metadata": {},
   "source": [
    "#### If `variance inflation factor` is at or above `high_vif_threshold`, consider merging or dropping features."
   ]
  },
  {
   "cell_type": "code",
   "execution_count": 32,
   "id": "5221813d-ab41-472e-8315-3bfd65ce66b8",
   "metadata": {},
   "outputs": [
    {
     "data": {
      "text/html": [
       "<style type=\"text/css\">\n",
       "#T_06c76_row0_col0, #T_06c76_row1_col0, #T_06c76_row2_col0, #T_06c76_row3_col0 {\n",
       "  font-weight: normal;\n",
       "  color: black;\n",
       "}\n",
       "</style>\n",
       "<table id=\"T_06c76\">\n",
       "  <thead>\n",
       "    <tr>\n",
       "      <th class=\"blank level0\" >&nbsp;</th>\n",
       "      <th id=\"T_06c76_level0_col0\" class=\"col_heading level0 col0\" >geo_0</th>\n",
       "    </tr>\n",
       "  </thead>\n",
       "  <tbody>\n",
       "    <tr>\n",
       "      <th id=\"T_06c76_level0_row0\" class=\"row_heading level0 row0\" >feature_0</th>\n",
       "      <td id=\"T_06c76_row0_col0\" class=\"data row0 col0\" >1.017879</td>\n",
       "    </tr>\n",
       "    <tr>\n",
       "      <th id=\"T_06c76_level0_row1\" class=\"row_heading level0 row1\" >feature_1</th>\n",
       "      <td id=\"T_06c76_row1_col0\" class=\"data row1 col0\" >1.012199</td>\n",
       "    </tr>\n",
       "    <tr>\n",
       "      <th id=\"T_06c76_level0_row2\" class=\"row_heading level0 row2\" >feature_2</th>\n",
       "      <td id=\"T_06c76_row2_col0\" class=\"data row2 col0\" >1.013035</td>\n",
       "    </tr>\n",
       "    <tr>\n",
       "      <th id=\"T_06c76_level0_row3\" class=\"row_heading level0 row3\" >extra_feature_0</th>\n",
       "      <td id=\"T_06c76_row3_col0\" class=\"data row3 col0\" >1.008492</td>\n",
       "    </tr>\n",
       "  </tbody>\n",
       "</table>\n"
      ],
      "text/plain": [
       "<pandas.io.formats.style.Styler at 0x29a135fd0>"
      ]
     },
     "execution_count": 32,
     "metadata": {},
     "output_type": "execute_result"
    }
   ],
   "source": [
    "variance_inflation_factors.style.applymap(highlight_high_vif_values)"
   ]
  },
  {
   "cell_type": "code",
   "execution_count": 33,
   "id": "b1961d8b-0a6a-4092-8fdc-06d02874263a",
   "metadata": {},
   "outputs": [
    {
     "data": {
      "text/html": [
       "<div>\n",
       "<style scoped>\n",
       "    .dataframe tbody tr th:only-of-type {\n",
       "        vertical-align: middle;\n",
       "    }\n",
       "\n",
       "    .dataframe tbody tr th {\n",
       "        vertical-align: top;\n",
       "    }\n",
       "\n",
       "    .dataframe thead th {\n",
       "        text-align: right;\n",
       "    }\n",
       "</style>\n",
       "<table border=\"1\" class=\"dataframe\">\n",
       "  <thead>\n",
       "    <tr style=\"text-align: right;\">\n",
       "      <th></th>\n",
       "      <th>Ad Platform 1 volume</th>\n",
       "      <th>Ad Platform 2 volume</th>\n",
       "      <th>Ad Platform 3 volume</th>\n",
       "      <th>Ad Platform 1 cost</th>\n",
       "      <th>Ad Platform 2 cost</th>\n",
       "      <th>Ad Platform 3 cost</th>\n",
       "      <th>extra_feature_1</th>\n",
       "      <th>kpi</th>\n",
       "    </tr>\n",
       "  </thead>\n",
       "  <tbody>\n",
       "    <tr>\n",
       "      <th>2023-01-01</th>\n",
       "      <td>18,391.000</td>\n",
       "      <td>20,079.002</td>\n",
       "      <td>19,621.000</td>\n",
       "      <td>189.500</td>\n",
       "      <td>422.480</td>\n",
       "      <td>623.630</td>\n",
       "      <td>4.940</td>\n",
       "      <td>87.000</td>\n",
       "    </tr>\n",
       "    <tr>\n",
       "      <th>2023-01-02</th>\n",
       "      <td>20,391.998</td>\n",
       "      <td>19,307.000</td>\n",
       "      <td>19,490.000</td>\n",
       "      <td>204.490</td>\n",
       "      <td>394.300</td>\n",
       "      <td>615.240</td>\n",
       "      <td>5.110</td>\n",
       "      <td>87.000</td>\n",
       "    </tr>\n",
       "    <tr>\n",
       "      <th>2023-01-03</th>\n",
       "      <td>21,157.000</td>\n",
       "      <td>18,604.000</td>\n",
       "      <td>20,310.000</td>\n",
       "      <td>213.520</td>\n",
       "      <td>392.840</td>\n",
       "      <td>635.790</td>\n",
       "      <td>5.970</td>\n",
       "      <td>89.000</td>\n",
       "    </tr>\n",
       "    <tr>\n",
       "      <th>2023-01-04</th>\n",
       "      <td>19,782.000</td>\n",
       "      <td>20,753.000</td>\n",
       "      <td>19,784.000</td>\n",
       "      <td>207.150</td>\n",
       "      <td>421.270</td>\n",
       "      <td>609.840</td>\n",
       "      <td>3.570</td>\n",
       "      <td>91.000</td>\n",
       "    </tr>\n",
       "    <tr>\n",
       "      <th>2023-01-05</th>\n",
       "      <td>18,710.000</td>\n",
       "      <td>19,716.000</td>\n",
       "      <td>20,815.002</td>\n",
       "      <td>202.360</td>\n",
       "      <td>418.500</td>\n",
       "      <td>667.440</td>\n",
       "      <td>6.970</td>\n",
       "      <td>90.000</td>\n",
       "    </tr>\n",
       "  </tbody>\n",
       "</table>\n",
       "</div>"
      ],
      "text/plain": [
       "            Ad Platform 1 volume  Ad Platform 2 volume  Ad Platform 3 volume  \\\n",
       "2023-01-01            18,391.000            20,079.002            19,621.000   \n",
       "2023-01-02            20,391.998            19,307.000            19,490.000   \n",
       "2023-01-03            21,157.000            18,604.000            20,310.000   \n",
       "2023-01-04            19,782.000            20,753.000            19,784.000   \n",
       "2023-01-05            18,710.000            19,716.000            20,815.002   \n",
       "\n",
       "            Ad Platform 1 cost  Ad Platform 2 cost  Ad Platform 3 cost  \\\n",
       "2023-01-01             189.500             422.480             623.630   \n",
       "2023-01-02             204.490             394.300             615.240   \n",
       "2023-01-03             213.520             392.840             635.790   \n",
       "2023-01-04             207.150             421.270             609.840   \n",
       "2023-01-05             202.360             418.500             667.440   \n",
       "\n",
       "            extra_feature_1    kpi  \n",
       "2023-01-01            4.940 87.000  \n",
       "2023-01-02            5.110 87.000  \n",
       "2023-01-03            5.970 89.000  \n",
       "2023-01-04            3.570 91.000  \n",
       "2023-01-05            6.970 90.000  "
      ]
     },
     "execution_count": 33,
     "metadata": {},
     "output_type": "execute_result"
    }
   ],
   "source": [
    "per_observation_df, _ = data_to_fit.to_data_frame(unscaled=True)\n",
    "per_observation_df.head(5)"
   ]
  },
  {
   "cell_type": "code",
   "execution_count": 34,
   "id": "9fbdded6-5bdc-45ea-92de-4db25349eac5",
   "metadata": {},
   "outputs": [],
   "source": [
    "corr_df = per_observation_df[[column for column in per_observation_df.columns if column.find(\"volume\") > 0 or column == input_data.target_name]]"
   ]
  },
  {
   "cell_type": "markdown",
   "id": "5d2d3577-2506-456b-8b55-986c74ceb496",
   "metadata": {},
   "source": [
    "#### If absolute values are >= 0.7, the regression analysis is likely to suffer from multicollinearity.  Consider merging features or applying other transformations."
   ]
  },
  {
   "cell_type": "code",
   "execution_count": 35,
   "id": "e6cfe967-2400-4966-9bac-4e09ff600ec3",
   "metadata": {},
   "outputs": [
    {
     "data": {
      "text/html": [
       "<div>\n",
       "<style scoped>\n",
       "    .dataframe tbody tr th:only-of-type {\n",
       "        vertical-align: middle;\n",
       "    }\n",
       "\n",
       "    .dataframe tbody tr th {\n",
       "        vertical-align: top;\n",
       "    }\n",
       "\n",
       "    .dataframe thead th {\n",
       "        text-align: right;\n",
       "    }\n",
       "</style>\n",
       "<table border=\"1\" class=\"dataframe\">\n",
       "  <thead>\n",
       "    <tr style=\"text-align: right;\">\n",
       "      <th></th>\n",
       "      <th>Ad Platform 1 volume</th>\n",
       "      <th>Ad Platform 2 volume</th>\n",
       "      <th>Ad Platform 3 volume</th>\n",
       "      <th>kpi</th>\n",
       "    </tr>\n",
       "  </thead>\n",
       "  <tbody>\n",
       "    <tr>\n",
       "      <th>Ad Platform 1 volume</th>\n",
       "      <td>1.000</td>\n",
       "      <td>-0.074</td>\n",
       "      <td>-0.101</td>\n",
       "      <td>0.317</td>\n",
       "    </tr>\n",
       "    <tr>\n",
       "      <th>Ad Platform 2 volume</th>\n",
       "      <td>-0.074</td>\n",
       "      <td>1.000</td>\n",
       "      <td>0.047</td>\n",
       "      <td>-0.256</td>\n",
       "    </tr>\n",
       "    <tr>\n",
       "      <th>Ad Platform 3 volume</th>\n",
       "      <td>-0.101</td>\n",
       "      <td>0.047</td>\n",
       "      <td>1.000</td>\n",
       "      <td>0.133</td>\n",
       "    </tr>\n",
       "    <tr>\n",
       "      <th>kpi</th>\n",
       "      <td>0.317</td>\n",
       "      <td>-0.256</td>\n",
       "      <td>0.133</td>\n",
       "      <td>1.000</td>\n",
       "    </tr>\n",
       "  </tbody>\n",
       "</table>\n",
       "</div>"
      ],
      "text/plain": [
       "                      Ad Platform 1 volume  Ad Platform 2 volume  \\\n",
       "Ad Platform 1 volume                 1.000                -0.074   \n",
       "Ad Platform 2 volume                -0.074                 1.000   \n",
       "Ad Platform 3 volume                -0.101                 0.047   \n",
       "kpi                                  0.317                -0.256   \n",
       "\n",
       "                      Ad Platform 3 volume    kpi  \n",
       "Ad Platform 1 volume                -0.101  0.317  \n",
       "Ad Platform 2 volume                 0.047 -0.256  \n",
       "Ad Platform 3 volume                 1.000  0.133  \n",
       "kpi                                  0.133  1.000  "
      ]
     },
     "execution_count": 35,
     "metadata": {},
     "output_type": "execute_result"
    }
   ],
   "source": [
    "corr_df.corr()"
   ]
  },
  {
   "cell_type": "code",
   "execution_count": 36,
   "id": "c349b579-27d7-4bdf-8d3a-0cda0e838a51",
   "metadata": {},
   "outputs": [
    {
     "data": {
      "application/vnd.plotly.v1+json": {
       "config": {
        "plotlyServerURL": "https://plot.ly"
       },
       "data": [
        {
         "coloraxis": "coloraxis",
         "hovertemplate": "x: %{x}<br>y: %{y}<br>color: %{z}<extra></extra>",
         "name": "0",
         "type": "heatmap",
         "x": [
          "Ad Platform 1 volume",
          "Ad Platform 2 volume",
          "Ad Platform 3 volume",
          "kpi"
         ],
         "xaxis": "x",
         "y": [
          "Ad Platform 1 volume",
          "Ad Platform 2 volume",
          "Ad Platform 3 volume",
          "kpi"
         ],
         "yaxis": "y",
         "z": [
          [
           1,
           -0.0740248905235754,
           -0.10103698480120137,
           0.3169653188389977
          ],
          [
           -0.0740248905235754,
           1,
           0.04651307471291749,
           -0.2561243107082954
          ],
          [
           -0.10103698480120137,
           0.04651307471291749,
           1,
           0.13259027868014364
          ],
          [
           0.3169653188389977,
           -0.2561243107082954,
           0.13259027868014364,
           1
          ]
         ]
        }
       ],
       "layout": {
        "coloraxis": {
         "colorscale": [
          [
           0,
           "#0d0887"
          ],
          [
           0.1111111111111111,
           "#46039f"
          ],
          [
           0.2222222222222222,
           "#7201a8"
          ],
          [
           0.3333333333333333,
           "#9c179e"
          ],
          [
           0.4444444444444444,
           "#bd3786"
          ],
          [
           0.5555555555555556,
           "#d8576b"
          ],
          [
           0.6666666666666666,
           "#ed7953"
          ],
          [
           0.7777777777777778,
           "#fb9f3a"
          ],
          [
           0.8888888888888888,
           "#fdca26"
          ],
          [
           1,
           "#f0f921"
          ]
         ]
        },
        "height": 800,
        "margin": {
         "t": 60
        },
        "template": {
         "data": {
          "bar": [
           {
            "error_x": {
             "color": "#2a3f5f"
            },
            "error_y": {
             "color": "#2a3f5f"
            },
            "marker": {
             "line": {
              "color": "#E5ECF6",
              "width": 0.5
             },
             "pattern": {
              "fillmode": "overlay",
              "size": 10,
              "solidity": 0.2
             }
            },
            "type": "bar"
           }
          ],
          "barpolar": [
           {
            "marker": {
             "line": {
              "color": "#E5ECF6",
              "width": 0.5
             },
             "pattern": {
              "fillmode": "overlay",
              "size": 10,
              "solidity": 0.2
             }
            },
            "type": "barpolar"
           }
          ],
          "carpet": [
           {
            "aaxis": {
             "endlinecolor": "#2a3f5f",
             "gridcolor": "white",
             "linecolor": "white",
             "minorgridcolor": "white",
             "startlinecolor": "#2a3f5f"
            },
            "baxis": {
             "endlinecolor": "#2a3f5f",
             "gridcolor": "white",
             "linecolor": "white",
             "minorgridcolor": "white",
             "startlinecolor": "#2a3f5f"
            },
            "type": "carpet"
           }
          ],
          "choropleth": [
           {
            "colorbar": {
             "outlinewidth": 0,
             "ticks": ""
            },
            "type": "choropleth"
           }
          ],
          "contour": [
           {
            "colorbar": {
             "outlinewidth": 0,
             "ticks": ""
            },
            "colorscale": [
             [
              0,
              "#0d0887"
             ],
             [
              0.1111111111111111,
              "#46039f"
             ],
             [
              0.2222222222222222,
              "#7201a8"
             ],
             [
              0.3333333333333333,
              "#9c179e"
             ],
             [
              0.4444444444444444,
              "#bd3786"
             ],
             [
              0.5555555555555556,
              "#d8576b"
             ],
             [
              0.6666666666666666,
              "#ed7953"
             ],
             [
              0.7777777777777778,
              "#fb9f3a"
             ],
             [
              0.8888888888888888,
              "#fdca26"
             ],
             [
              1,
              "#f0f921"
             ]
            ],
            "type": "contour"
           }
          ],
          "contourcarpet": [
           {
            "colorbar": {
             "outlinewidth": 0,
             "ticks": ""
            },
            "type": "contourcarpet"
           }
          ],
          "heatmap": [
           {
            "colorbar": {
             "outlinewidth": 0,
             "ticks": ""
            },
            "colorscale": [
             [
              0,
              "#0d0887"
             ],
             [
              0.1111111111111111,
              "#46039f"
             ],
             [
              0.2222222222222222,
              "#7201a8"
             ],
             [
              0.3333333333333333,
              "#9c179e"
             ],
             [
              0.4444444444444444,
              "#bd3786"
             ],
             [
              0.5555555555555556,
              "#d8576b"
             ],
             [
              0.6666666666666666,
              "#ed7953"
             ],
             [
              0.7777777777777778,
              "#fb9f3a"
             ],
             [
              0.8888888888888888,
              "#fdca26"
             ],
             [
              1,
              "#f0f921"
             ]
            ],
            "type": "heatmap"
           }
          ],
          "heatmapgl": [
           {
            "colorbar": {
             "outlinewidth": 0,
             "ticks": ""
            },
            "colorscale": [
             [
              0,
              "#0d0887"
             ],
             [
              0.1111111111111111,
              "#46039f"
             ],
             [
              0.2222222222222222,
              "#7201a8"
             ],
             [
              0.3333333333333333,
              "#9c179e"
             ],
             [
              0.4444444444444444,
              "#bd3786"
             ],
             [
              0.5555555555555556,
              "#d8576b"
             ],
             [
              0.6666666666666666,
              "#ed7953"
             ],
             [
              0.7777777777777778,
              "#fb9f3a"
             ],
             [
              0.8888888888888888,
              "#fdca26"
             ],
             [
              1,
              "#f0f921"
             ]
            ],
            "type": "heatmapgl"
           }
          ],
          "histogram": [
           {
            "marker": {
             "pattern": {
              "fillmode": "overlay",
              "size": 10,
              "solidity": 0.2
             }
            },
            "type": "histogram"
           }
          ],
          "histogram2d": [
           {
            "colorbar": {
             "outlinewidth": 0,
             "ticks": ""
            },
            "colorscale": [
             [
              0,
              "#0d0887"
             ],
             [
              0.1111111111111111,
              "#46039f"
             ],
             [
              0.2222222222222222,
              "#7201a8"
             ],
             [
              0.3333333333333333,
              "#9c179e"
             ],
             [
              0.4444444444444444,
              "#bd3786"
             ],
             [
              0.5555555555555556,
              "#d8576b"
             ],
             [
              0.6666666666666666,
              "#ed7953"
             ],
             [
              0.7777777777777778,
              "#fb9f3a"
             ],
             [
              0.8888888888888888,
              "#fdca26"
             ],
             [
              1,
              "#f0f921"
             ]
            ],
            "type": "histogram2d"
           }
          ],
          "histogram2dcontour": [
           {
            "colorbar": {
             "outlinewidth": 0,
             "ticks": ""
            },
            "colorscale": [
             [
              0,
              "#0d0887"
             ],
             [
              0.1111111111111111,
              "#46039f"
             ],
             [
              0.2222222222222222,
              "#7201a8"
             ],
             [
              0.3333333333333333,
              "#9c179e"
             ],
             [
              0.4444444444444444,
              "#bd3786"
             ],
             [
              0.5555555555555556,
              "#d8576b"
             ],
             [
              0.6666666666666666,
              "#ed7953"
             ],
             [
              0.7777777777777778,
              "#fb9f3a"
             ],
             [
              0.8888888888888888,
              "#fdca26"
             ],
             [
              1,
              "#f0f921"
             ]
            ],
            "type": "histogram2dcontour"
           }
          ],
          "mesh3d": [
           {
            "colorbar": {
             "outlinewidth": 0,
             "ticks": ""
            },
            "type": "mesh3d"
           }
          ],
          "parcoords": [
           {
            "line": {
             "colorbar": {
              "outlinewidth": 0,
              "ticks": ""
             }
            },
            "type": "parcoords"
           }
          ],
          "pie": [
           {
            "automargin": true,
            "type": "pie"
           }
          ],
          "scatter": [
           {
            "fillpattern": {
             "fillmode": "overlay",
             "size": 10,
             "solidity": 0.2
            },
            "type": "scatter"
           }
          ],
          "scatter3d": [
           {
            "line": {
             "colorbar": {
              "outlinewidth": 0,
              "ticks": ""
             }
            },
            "marker": {
             "colorbar": {
              "outlinewidth": 0,
              "ticks": ""
             }
            },
            "type": "scatter3d"
           }
          ],
          "scattercarpet": [
           {
            "marker": {
             "colorbar": {
              "outlinewidth": 0,
              "ticks": ""
             }
            },
            "type": "scattercarpet"
           }
          ],
          "scattergeo": [
           {
            "marker": {
             "colorbar": {
              "outlinewidth": 0,
              "ticks": ""
             }
            },
            "type": "scattergeo"
           }
          ],
          "scattergl": [
           {
            "marker": {
             "colorbar": {
              "outlinewidth": 0,
              "ticks": ""
             }
            },
            "type": "scattergl"
           }
          ],
          "scattermapbox": [
           {
            "marker": {
             "colorbar": {
              "outlinewidth": 0,
              "ticks": ""
             }
            },
            "type": "scattermapbox"
           }
          ],
          "scatterpolar": [
           {
            "marker": {
             "colorbar": {
              "outlinewidth": 0,
              "ticks": ""
             }
            },
            "type": "scatterpolar"
           }
          ],
          "scatterpolargl": [
           {
            "marker": {
             "colorbar": {
              "outlinewidth": 0,
              "ticks": ""
             }
            },
            "type": "scatterpolargl"
           }
          ],
          "scatterternary": [
           {
            "marker": {
             "colorbar": {
              "outlinewidth": 0,
              "ticks": ""
             }
            },
            "type": "scatterternary"
           }
          ],
          "surface": [
           {
            "colorbar": {
             "outlinewidth": 0,
             "ticks": ""
            },
            "colorscale": [
             [
              0,
              "#0d0887"
             ],
             [
              0.1111111111111111,
              "#46039f"
             ],
             [
              0.2222222222222222,
              "#7201a8"
             ],
             [
              0.3333333333333333,
              "#9c179e"
             ],
             [
              0.4444444444444444,
              "#bd3786"
             ],
             [
              0.5555555555555556,
              "#d8576b"
             ],
             [
              0.6666666666666666,
              "#ed7953"
             ],
             [
              0.7777777777777778,
              "#fb9f3a"
             ],
             [
              0.8888888888888888,
              "#fdca26"
             ],
             [
              1,
              "#f0f921"
             ]
            ],
            "type": "surface"
           }
          ],
          "table": [
           {
            "cells": {
             "fill": {
              "color": "#EBF0F8"
             },
             "line": {
              "color": "white"
             }
            },
            "header": {
             "fill": {
              "color": "#C8D4E3"
             },
             "line": {
              "color": "white"
             }
            },
            "type": "table"
           }
          ]
         },
         "layout": {
          "annotationdefaults": {
           "arrowcolor": "#2a3f5f",
           "arrowhead": 0,
           "arrowwidth": 1
          },
          "autotypenumbers": "strict",
          "coloraxis": {
           "colorbar": {
            "outlinewidth": 0,
            "ticks": ""
           }
          },
          "colorscale": {
           "diverging": [
            [
             0,
             "#8e0152"
            ],
            [
             0.1,
             "#c51b7d"
            ],
            [
             0.2,
             "#de77ae"
            ],
            [
             0.3,
             "#f1b6da"
            ],
            [
             0.4,
             "#fde0ef"
            ],
            [
             0.5,
             "#f7f7f7"
            ],
            [
             0.6,
             "#e6f5d0"
            ],
            [
             0.7,
             "#b8e186"
            ],
            [
             0.8,
             "#7fbc41"
            ],
            [
             0.9,
             "#4d9221"
            ],
            [
             1,
             "#276419"
            ]
           ],
           "sequential": [
            [
             0,
             "#0d0887"
            ],
            [
             0.1111111111111111,
             "#46039f"
            ],
            [
             0.2222222222222222,
             "#7201a8"
            ],
            [
             0.3333333333333333,
             "#9c179e"
            ],
            [
             0.4444444444444444,
             "#bd3786"
            ],
            [
             0.5555555555555556,
             "#d8576b"
            ],
            [
             0.6666666666666666,
             "#ed7953"
            ],
            [
             0.7777777777777778,
             "#fb9f3a"
            ],
            [
             0.8888888888888888,
             "#fdca26"
            ],
            [
             1,
             "#f0f921"
            ]
           ],
           "sequentialminus": [
            [
             0,
             "#0d0887"
            ],
            [
             0.1111111111111111,
             "#46039f"
            ],
            [
             0.2222222222222222,
             "#7201a8"
            ],
            [
             0.3333333333333333,
             "#9c179e"
            ],
            [
             0.4444444444444444,
             "#bd3786"
            ],
            [
             0.5555555555555556,
             "#d8576b"
            ],
            [
             0.6666666666666666,
             "#ed7953"
            ],
            [
             0.7777777777777778,
             "#fb9f3a"
            ],
            [
             0.8888888888888888,
             "#fdca26"
            ],
            [
             1,
             "#f0f921"
            ]
           ]
          },
          "colorway": [
           "#636efa",
           "#EF553B",
           "#00cc96",
           "#ab63fa",
           "#FFA15A",
           "#19d3f3",
           "#FF6692",
           "#B6E880",
           "#FF97FF",
           "#FECB52"
          ],
          "font": {
           "color": "#2a3f5f"
          },
          "geo": {
           "bgcolor": "white",
           "lakecolor": "white",
           "landcolor": "#E5ECF6",
           "showlakes": true,
           "showland": true,
           "subunitcolor": "white"
          },
          "hoverlabel": {
           "align": "left"
          },
          "hovermode": "closest",
          "mapbox": {
           "style": "light"
          },
          "paper_bgcolor": "white",
          "plot_bgcolor": "#E5ECF6",
          "polar": {
           "angularaxis": {
            "gridcolor": "white",
            "linecolor": "white",
            "ticks": ""
           },
           "bgcolor": "#E5ECF6",
           "radialaxis": {
            "gridcolor": "white",
            "linecolor": "white",
            "ticks": ""
           }
          },
          "scene": {
           "xaxis": {
            "backgroundcolor": "#E5ECF6",
            "gridcolor": "white",
            "gridwidth": 2,
            "linecolor": "white",
            "showbackground": true,
            "ticks": "",
            "zerolinecolor": "white"
           },
           "yaxis": {
            "backgroundcolor": "#E5ECF6",
            "gridcolor": "white",
            "gridwidth": 2,
            "linecolor": "white",
            "showbackground": true,
            "ticks": "",
            "zerolinecolor": "white"
           },
           "zaxis": {
            "backgroundcolor": "#E5ECF6",
            "gridcolor": "white",
            "gridwidth": 2,
            "linecolor": "white",
            "showbackground": true,
            "ticks": "",
            "zerolinecolor": "white"
           }
          },
          "shapedefaults": {
           "line": {
            "color": "#2a3f5f"
           }
          },
          "ternary": {
           "aaxis": {
            "gridcolor": "white",
            "linecolor": "white",
            "ticks": ""
           },
           "baxis": {
            "gridcolor": "white",
            "linecolor": "white",
            "ticks": ""
           },
           "bgcolor": "#E5ECF6",
           "caxis": {
            "gridcolor": "white",
            "linecolor": "white",
            "ticks": ""
           }
          },
          "title": {
           "x": 0.05
          },
          "xaxis": {
           "automargin": true,
           "gridcolor": "white",
           "linecolor": "white",
           "ticks": "",
           "title": {
            "standoff": 15
           },
           "zerolinecolor": "white",
           "zerolinewidth": 2
          },
          "yaxis": {
           "automargin": true,
           "gridcolor": "white",
           "linecolor": "white",
           "ticks": "",
           "title": {
            "standoff": 15
           },
           "zerolinecolor": "white",
           "zerolinewidth": 2
          }
         }
        },
        "width": 800,
        "xaxis": {
         "anchor": "y",
         "autorange": true,
         "constrain": "domain",
         "domain": [
          0.0009025270758122872,
          0.9990974729241877
         ],
         "range": [
          -0.5,
          3.5
         ],
         "scaleanchor": "y",
         "type": "category"
        },
        "yaxis": {
         "anchor": "x",
         "autorange": true,
         "constrain": "domain",
         "domain": [
          0.08106060606060606,
          0.918939393939394
         ],
         "range": [
          3.5,
          -0.5
         ],
         "type": "category"
        }
       }
      },
      "image/png": "[encoded data removed]",
      "text/html": [
       "<div>                            <div id=\"a62756a1-b033-4872-a471-cb36312fc44a\" class=\"plotly-graph-div\" style=\"height:800px; width:800px;\"></div>            <script type=\"text/javascript\">                require([\"plotly\"], function(Plotly) {                    window.PLOTLYENV=window.PLOTLYENV || {};                                    if (document.getElementById(\"a62756a1-b033-4872-a471-cb36312fc44a\")) {                    Plotly.newPlot(                        \"a62756a1-b033-4872-a471-cb36312fc44a\",                        [{\"coloraxis\":\"coloraxis\",\"name\":\"0\",\"x\":[\"Ad Platform 1 volume\",\"Ad Platform 2 volume\",\"Ad Platform 3 volume\",\"kpi\"],\"y\":[\"Ad Platform 1 volume\",\"Ad Platform 2 volume\",\"Ad Platform 3 volume\",\"kpi\"],\"z\":[[1.0,-0.0740248905235754,-0.10103698480120137,0.3169653188389977],[-0.0740248905235754,1.0,0.04651307471291749,-0.2561243107082954],[-0.10103698480120137,0.04651307471291749,1.0,0.13259027868014364],[0.3169653188389977,-0.2561243107082954,0.13259027868014364,1.0]],\"type\":\"heatmap\",\"xaxis\":\"x\",\"yaxis\":\"y\",\"hovertemplate\":\"x: %{x}\\u003cbr\\u003ey: %{y}\\u003cbr\\u003ecolor: %{z}\\u003cextra\\u003e\\u003c\\u002fextra\\u003e\"}],                        {\"template\":{\"data\":{\"histogram2dcontour\":[{\"type\":\"histogram2dcontour\",\"colorbar\":{\"outlinewidth\":0,\"ticks\":\"\"},\"colorscale\":[[0.0,\"#0d0887\"],[0.1111111111111111,\"#46039f\"],[0.2222222222222222,\"#7201a8\"],[0.3333333333333333,\"#9c179e\"],[0.4444444444444444,\"#bd3786\"],[0.5555555555555556,\"#d8576b\"],[0.6666666666666666,\"#ed7953\"],[0.7777777777777778,\"#fb9f3a\"],[0.8888888888888888,\"#fdca26\"],[1.0,\"#f0f921\"]]}],\"choropleth\":[{\"type\":\"choropleth\",\"colorbar\":{\"outlinewidth\":0,\"ticks\":\"\"}}],\"histogram2d\":[{\"type\":\"histogram2d\",\"colorbar\":{\"outlinewidth\":0,\"ticks\":\"\"},\"colorscale\":[[0.0,\"#0d0887\"],[0.1111111111111111,\"#46039f\"],[0.2222222222222222,\"#7201a8\"],[0.3333333333333333,\"#9c179e\"],[0.4444444444444444,\"#bd3786\"],[0.5555555555555556,\"#d8576b\"],[0.6666666666666666,\"#ed7953\"],[0.7777777777777778,\"#fb9f3a\"],[0.8888888888888888,\"#fdca26\"],[1.0,\"#f0f921\"]]}],\"heatmap\":[{\"type\":\"heatmap\",\"colorbar\":{\"outlinewidth\":0,\"ticks\":\"\"},\"colorscale\":[[0.0,\"#0d0887\"],[0.1111111111111111,\"#46039f\"],[0.2222222222222222,\"#7201a8\"],[0.3333333333333333,\"#9c179e\"],[0.4444444444444444,\"#bd3786\"],[0.5555555555555556,\"#d8576b\"],[0.6666666666666666,\"#ed7953\"],[0.7777777777777778,\"#fb9f3a\"],[0.8888888888888888,\"#fdca26\"],[1.0,\"#f0f921\"]]}],\"heatmapgl\":[{\"type\":\"heatmapgl\",\"colorbar\":{\"outlinewidth\":0,\"ticks\":\"\"},\"colorscale\":[[0.0,\"#0d0887\"],[0.1111111111111111,\"#46039f\"],[0.2222222222222222,\"#7201a8\"],[0.3333333333333333,\"#9c179e\"],[0.4444444444444444,\"#bd3786\"],[0.5555555555555556,\"#d8576b\"],[0.6666666666666666,\"#ed7953\"],[0.7777777777777778,\"#fb9f3a\"],[0.8888888888888888,\"#fdca26\"],[1.0,\"#f0f921\"]]}],\"contourcarpet\":[{\"type\":\"contourcarpet\",\"colorbar\":{\"outlinewidth\":0,\"ticks\":\"\"}}],\"contour\":[{\"type\":\"contour\",\"colorbar\":{\"outlinewidth\":0,\"ticks\":\"\"},\"colorscale\":[[0.0,\"#0d0887\"],[0.1111111111111111,\"#46039f\"],[0.2222222222222222,\"#7201a8\"],[0.3333333333333333,\"#9c179e\"],[0.4444444444444444,\"#bd3786\"],[0.5555555555555556,\"#d8576b\"],[0.6666666666666666,\"#ed7953\"],[0.7777777777777778,\"#fb9f3a\"],[0.8888888888888888,\"#fdca26\"],[1.0,\"#f0f921\"]]}],\"surface\":[{\"type\":\"surface\",\"colorbar\":{\"outlinewidth\":0,\"ticks\":\"\"},\"colorscale\":[[0.0,\"#0d0887\"],[0.1111111111111111,\"#46039f\"],[0.2222222222222222,\"#7201a8\"],[0.3333333333333333,\"#9c179e\"],[0.4444444444444444,\"#bd3786\"],[0.5555555555555556,\"#d8576b\"],[0.6666666666666666,\"#ed7953\"],[0.7777777777777778,\"#fb9f3a\"],[0.8888888888888888,\"#fdca26\"],[1.0,\"#f0f921\"]]}],\"mesh3d\":[{\"type\":\"mesh3d\",\"colorbar\":{\"outlinewidth\":0,\"ticks\":\"\"}}],\"scatter\":[{\"fillpattern\":{\"fillmode\":\"overlay\",\"size\":10,\"solidity\":0.2},\"type\":\"scatter\"}],\"parcoords\":[{\"type\":\"parcoords\",\"line\":{\"colorbar\":{\"outlinewidth\":0,\"ticks\":\"\"}}}],\"scatterpolargl\":[{\"type\":\"scatterpolargl\",\"marker\":{\"colorbar\":{\"outlinewidth\":0,\"ticks\":\"\"}}}],\"bar\":[{\"error_x\":{\"color\":\"#2a3f5f\"},\"error_y\":{\"color\":\"#2a3f5f\"},\"marker\":{\"line\":{\"color\":\"#E5ECF6\",\"width\":0.5},\"pattern\":{\"fillmode\":\"overlay\",\"size\":10,\"solidity\":0.2}},\"type\":\"bar\"}],\"scattergeo\":[{\"type\":\"scattergeo\",\"marker\":{\"colorbar\":{\"outlinewidth\":0,\"ticks\":\"\"}}}],\"scatterpolar\":[{\"type\":\"scatterpolar\",\"marker\":{\"colorbar\":{\"outlinewidth\":0,\"ticks\":\"\"}}}],\"histogram\":[{\"marker\":{\"pattern\":{\"fillmode\":\"overlay\",\"size\":10,\"solidity\":0.2}},\"type\":\"histogram\"}],\"scattergl\":[{\"type\":\"scattergl\",\"marker\":{\"colorbar\":{\"outlinewidth\":0,\"ticks\":\"\"}}}],\"scatter3d\":[{\"type\":\"scatter3d\",\"line\":{\"colorbar\":{\"outlinewidth\":0,\"ticks\":\"\"}},\"marker\":{\"colorbar\":{\"outlinewidth\":0,\"ticks\":\"\"}}}],\"scattermapbox\":[{\"type\":\"scattermapbox\",\"marker\":{\"colorbar\":{\"outlinewidth\":0,\"ticks\":\"\"}}}],\"scatterternary\":[{\"type\":\"scatterternary\",\"marker\":{\"colorbar\":{\"outlinewidth\":0,\"ticks\":\"\"}}}],\"scattercarpet\":[{\"type\":\"scattercarpet\",\"marker\":{\"colorbar\":{\"outlinewidth\":0,\"ticks\":\"\"}}}],\"carpet\":[{\"aaxis\":{\"endlinecolor\":\"#2a3f5f\",\"gridcolor\":\"white\",\"linecolor\":\"white\",\"minorgridcolor\":\"white\",\"startlinecolor\":\"#2a3f5f\"},\"baxis\":{\"endlinecolor\":\"#2a3f5f\",\"gridcolor\":\"white\",\"linecolor\":\"white\",\"minorgridcolor\":\"white\",\"startlinecolor\":\"#2a3f5f\"},\"type\":\"carpet\"}],\"table\":[{\"cells\":{\"fill\":{\"color\":\"#EBF0F8\"},\"line\":{\"color\":\"white\"}},\"header\":{\"fill\":{\"color\":\"#C8D4E3\"},\"line\":{\"color\":\"white\"}},\"type\":\"table\"}],\"barpolar\":[{\"marker\":{\"line\":{\"color\":\"#E5ECF6\",\"width\":0.5},\"pattern\":{\"fillmode\":\"overlay\",\"size\":10,\"solidity\":0.2}},\"type\":\"barpolar\"}],\"pie\":[{\"automargin\":true,\"type\":\"pie\"}]},\"layout\":{\"autotypenumbers\":\"strict\",\"colorway\":[\"#636efa\",\"#EF553B\",\"#00cc96\",\"#ab63fa\",\"#FFA15A\",\"#19d3f3\",\"#FF6692\",\"#B6E880\",\"#FF97FF\",\"#FECB52\"],\"font\":{\"color\":\"#2a3f5f\"},\"hovermode\":\"closest\",\"hoverlabel\":{\"align\":\"left\"},\"paper_bgcolor\":\"white\",\"plot_bgcolor\":\"#E5ECF6\",\"polar\":{\"bgcolor\":\"#E5ECF6\",\"angularaxis\":{\"gridcolor\":\"white\",\"linecolor\":\"white\",\"ticks\":\"\"},\"radialaxis\":{\"gridcolor\":\"white\",\"linecolor\":\"white\",\"ticks\":\"\"}},\"ternary\":{\"bgcolor\":\"#E5ECF6\",\"aaxis\":{\"gridcolor\":\"white\",\"linecolor\":\"white\",\"ticks\":\"\"},\"baxis\":{\"gridcolor\":\"white\",\"linecolor\":\"white\",\"ticks\":\"\"},\"caxis\":{\"gridcolor\":\"white\",\"linecolor\":\"white\",\"ticks\":\"\"}},\"coloraxis\":{\"colorbar\":{\"outlinewidth\":0,\"ticks\":\"\"}},\"colorscale\":{\"sequential\":[[0.0,\"#0d0887\"],[0.1111111111111111,\"#46039f\"],[0.2222222222222222,\"#7201a8\"],[0.3333333333333333,\"#9c179e\"],[0.4444444444444444,\"#bd3786\"],[0.5555555555555556,\"#d8576b\"],[0.6666666666666666,\"#ed7953\"],[0.7777777777777778,\"#fb9f3a\"],[0.8888888888888888,\"#fdca26\"],[1.0,\"#f0f921\"]],\"sequentialminus\":[[0.0,\"#0d0887\"],[0.1111111111111111,\"#46039f\"],[0.2222222222222222,\"#7201a8\"],[0.3333333333333333,\"#9c179e\"],[0.4444444444444444,\"#bd3786\"],[0.5555555555555556,\"#d8576b\"],[0.6666666666666666,\"#ed7953\"],[0.7777777777777778,\"#fb9f3a\"],[0.8888888888888888,\"#fdca26\"],[1.0,\"#f0f921\"]],\"diverging\":[[0,\"#8e0152\"],[0.1,\"#c51b7d\"],[0.2,\"#de77ae\"],[0.3,\"#f1b6da\"],[0.4,\"#fde0ef\"],[0.5,\"#f7f7f7\"],[0.6,\"#e6f5d0\"],[0.7,\"#b8e186\"],[0.8,\"#7fbc41\"],[0.9,\"#4d9221\"],[1,\"#276419\"]]},\"xaxis\":{\"gridcolor\":\"white\",\"linecolor\":\"white\",\"ticks\":\"\",\"title\":{\"standoff\":15},\"zerolinecolor\":\"white\",\"automargin\":true,\"zerolinewidth\":2},\"yaxis\":{\"gridcolor\":\"white\",\"linecolor\":\"white\",\"ticks\":\"\",\"title\":{\"standoff\":15},\"zerolinecolor\":\"white\",\"automargin\":true,\"zerolinewidth\":2},\"scene\":{\"xaxis\":{\"backgroundcolor\":\"#E5ECF6\",\"gridcolor\":\"white\",\"linecolor\":\"white\",\"showbackground\":true,\"ticks\":\"\",\"zerolinecolor\":\"white\",\"gridwidth\":2},\"yaxis\":{\"backgroundcolor\":\"#E5ECF6\",\"gridcolor\":\"white\",\"linecolor\":\"white\",\"showbackground\":true,\"ticks\":\"\",\"zerolinecolor\":\"white\",\"gridwidth\":2},\"zaxis\":{\"backgroundcolor\":\"#E5ECF6\",\"gridcolor\":\"white\",\"linecolor\":\"white\",\"showbackground\":true,\"ticks\":\"\",\"zerolinecolor\":\"white\",\"gridwidth\":2}},\"shapedefaults\":{\"line\":{\"color\":\"#2a3f5f\"}},\"annotationdefaults\":{\"arrowcolor\":\"#2a3f5f\",\"arrowhead\":0,\"arrowwidth\":1},\"geo\":{\"bgcolor\":\"white\",\"landcolor\":\"#E5ECF6\",\"subunitcolor\":\"white\",\"showland\":true,\"showlakes\":true,\"lakecolor\":\"white\"},\"title\":{\"x\":0.05},\"mapbox\":{\"style\":\"light\"}}},\"xaxis\":{\"anchor\":\"y\",\"domain\":[0.0,1.0],\"scaleanchor\":\"y\",\"constrain\":\"domain\"},\"yaxis\":{\"anchor\":\"x\",\"domain\":[0.0,1.0],\"autorange\":\"reversed\",\"constrain\":\"domain\"},\"coloraxis\":{\"colorscale\":[[0.0,\"#0d0887\"],[0.1111111111111111,\"#46039f\"],[0.2222222222222222,\"#7201a8\"],[0.3333333333333333,\"#9c179e\"],[0.4444444444444444,\"#bd3786\"],[0.5555555555555556,\"#d8576b\"],[0.6666666666666666,\"#ed7953\"],[0.7777777777777778,\"#fb9f3a\"],[0.8888888888888888,\"#fdca26\"],[1.0,\"#f0f921\"]]},\"margin\":{\"t\":60},\"height\":800,\"width\":800},                        {\"responsive\": true}                    ).then(function(){\n",
       "                            \n",
       "var gd = document.getElementById('a62756a1-b033-4872-a471-cb36312fc44a');\n",
       "var x = new MutationObserver(function (mutations, observer) {{\n",
       "        var display = window.getComputedStyle(gd).display;\n",
       "        if (!display || display === 'none') {{\n",
       "            console.log([gd, 'removed!']);\n",
       "            Plotly.purge(gd);\n",
       "            observer.disconnect();\n",
       "        }}\n",
       "}});\n",
       "\n",
       "// Listen for the removal of the full notebook cells\n",
       "var notebookContainer = gd.closest('#notebook-container');\n",
       "if (notebookContainer) {{\n",
       "    x.observe(notebookContainer, {childList: true});\n",
       "}}\n",
       "\n",
       "// Listen for the clearing of the current output cell\n",
       "var outputEl = gd.closest('.output');\n",
       "if (outputEl) {{\n",
       "    x.observe(outputEl, {childList: true});\n",
       "}}\n",
       "\n",
       "                        })                };                });            </script>        </div>"
      ]
     },
     "metadata": {},
     "output_type": "display_data"
    }
   ],
   "source": [
    "px.imshow(corr_df.corr(), width=800, height=800)"
   ]
  },
  {
   "cell_type": "code",
   "execution_count": null,
   "id": "7ece1fac-4d5f-476c-91e0-762e88a62719",
   "metadata": {},
   "outputs": [],
   "source": []
  }
 ],
 "metadata": {
  "kernelspec": {
   "display_name": "Python 3 (ipykernel)",
   "language": "python",
   "name": "python3"
  },
  "language_info": {
   "codemirror_mode": {
    "name": "ipython",
    "version": 3
   },
   "file_extension": ".py",
   "mimetype": "text/x-python",
   "name": "python",
   "nbconvert_exporter": "python",
   "pygments_lexer": "ipython3",
   "version": "3.9.6"
  }
 },
 "nbformat": 4,
 "nbformat_minor": 5
}
